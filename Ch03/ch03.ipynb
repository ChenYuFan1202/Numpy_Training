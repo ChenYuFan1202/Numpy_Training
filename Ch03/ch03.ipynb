{
 "cells": [
  {
   "cell_type": "markdown",
   "metadata": {},
   "source": [
    "# Ch3 Numpy的數學函式"
   ]
  },
  {
   "cell_type": "markdown",
   "metadata": {},
   "source": [
    "## 3-1 基本的數學運算函式"
   ]
  },
  {
   "cell_type": "code",
   "execution_count": 4,
   "metadata": {},
   "outputs": [
    {
     "name": "stdout",
     "output_type": "stream",
     "text": [
      "[ 2  5  8 11 14]\n",
      "[4 5 6 7 8]\n",
      "[ 2  5  8 11 14]\n",
      "[4 5 6 7 8]\n"
     ]
    }
   ],
   "source": [
    "import numpy as np\n",
    "\n",
    "a = np.array([0, 1, 2, 3, 4])\n",
    "b = np.array([2, 4, 6, 8, 10])\n",
    "print(a + b)\n",
    "print(a + 4)\n",
    "print(np.add(a, b))\n",
    "print(np.add(a, 4))"
   ]
  },
  {
   "cell_type": "code",
   "execution_count": 9,
   "metadata": {},
   "outputs": [
    {
     "name": "stdout",
     "output_type": "stream",
     "text": [
      "[-2 -3 -4 -5 -6]\n",
      "[2 3 4 5 6]\n",
      "[-4 -3 -2 -1  0]\n",
      "[-2 -3 -4 -5 -6]\n",
      "[-4 -3 -2 -1  0]\n"
     ]
    }
   ],
   "source": [
    "print(a - b)\n",
    "print(b - a)\n",
    "print(a - 4)\n",
    "print(np.subtract(a, b))\n",
    "print(np.subtract(a, 4))"
   ]
  },
  {
   "cell_type": "code",
   "execution_count": 13,
   "metadata": {},
   "outputs": [
    {
     "name": "stdout",
     "output_type": "stream",
     "text": [
      "[ 0  4 12 24 40]\n",
      "[0 2 4 6 8]\n",
      "[ 0  4 12 24 40]\n",
      "[0 2 4 6 8]\n"
     ]
    }
   ],
   "source": [
    "print(a * b)\n",
    "print(a * 2)\n",
    "print(np.multiply(a, b))\n",
    "print(np.multiply(a, 2))"
   ]
  },
  {
   "cell_type": "code",
   "execution_count": 21,
   "metadata": {},
   "outputs": [
    {
     "name": "stdout",
     "output_type": "stream",
     "text": [
      "[       inf 4.         3.         2.66666667 2.5       ]\n",
      "[1. 2. 3. 4. 5.]\n",
      "[0.66666667 1.33333333 2.         2.66666667 3.33333333]\n",
      "[       inf 4.         3.         2.66666667 2.5       ]\n",
      "[1. 2. 3. 4. 5.]\n",
      "[0 1 2 2 3]\n",
      "[2 1 0 2 1]\n"
     ]
    },
    {
     "name": "stderr",
     "output_type": "stream",
     "text": [
      "C:\\Users\\Vick\\AppData\\Local\\Temp\\ipykernel_64188\\2602909602.py:1: RuntimeWarning: divide by zero encountered in divide\n",
      "  print(b / a)\n",
      "C:\\Users\\Vick\\AppData\\Local\\Temp\\ipykernel_64188\\2602909602.py:4: RuntimeWarning: divide by zero encountered in divide\n",
      "  print(np.divide(b, a))\n"
     ]
    },
    {
     "data": {
      "text/plain": [
       "array([2, 1, 0, 2, 1], dtype=int32)"
      ]
     },
     "execution_count": 21,
     "metadata": {},
     "output_type": "execute_result"
    }
   ],
   "source": [
    "print(b / a)\n",
    "print(b / 2)\n",
    "print(b / 3)\n",
    "print(np.divide(b, a))\n",
    "print(np.divide(b, 2))\n",
    "print(b // 3)\n",
    "print(b % 3)\n",
    "np.mod(b, 3)\n"
   ]
  },
  {
   "cell_type": "code",
   "execution_count": 24,
   "metadata": {},
   "outputs": [
    {
     "name": "stdout",
     "output_type": "stream",
     "text": [
      "[0 1 2 2 3]\n"
     ]
    }
   ],
   "source": [
    "# numpy.floor_divide()函數進行整數除法。該函數將兩個數字進行除法運算，然後向下取整至最接近的整數。\n",
    "import numpy as np\n",
    "\n",
    "a = np.array([0, 1, 2, 3, 4])\n",
    "b = np.array([2, 4, 6, 8, 10])\n",
    "\n",
    "result = np.floor_divide(b, 3)\n",
    "print(result)\n"
   ]
  },
  {
   "cell_type": "code",
   "execution_count": 30,
   "metadata": {},
   "outputs": [
    {
     "name": "stdout",
     "output_type": "stream",
     "text": [
      "8\n",
      "8\n",
      "[ 1  2  3  4  5  6  7  8  9 10]\n",
      "[1 2 1 2 1 2 1 2 1 2]\n",
      "[  1   4   3  16   5  36   7  64   9 100]\n",
      "[  1   4   3  16   5  36   7  64   9 100]\n",
      "1.4142135623730951\n",
      "[1.         1.41421356 1.73205081 2.         2.23606798 2.44948974\n",
      " 2.64575131 2.82842712 3.         3.16227766]\n"
     ]
    }
   ],
   "source": [
    "print(np.power(2, 3))\n",
    "print(2 ** 3)\n",
    "a = np.arange(1, 11, 1)\n",
    "b = np.array([1, 2, 1, 2, 1, 2, 1, 2, 1, 2])\n",
    "print(a)\n",
    "print(b)\n",
    "print(np.power(a, b))\n",
    "print(a ** b)\n",
    "print(np.sqrt(2))\n",
    "print(np.sqrt(a))"
   ]
  },
  {
   "cell_type": "code",
   "execution_count": 33,
   "metadata": {},
   "outputs": [
    {
     "name": "stdout",
     "output_type": "stream",
     "text": [
      "0.0\n",
      "1.0\n",
      "0.0\n",
      "1.0\n",
      "6.123233995736766e-17\n"
     ]
    },
    {
     "data": {
      "text/plain": [
       "1.633123935319537e+16"
      ]
     },
     "execution_count": 33,
     "metadata": {},
     "output_type": "execute_result"
    }
   ],
   "source": [
    "print(np.sin(0))\n",
    "print(np.cos(0))\n",
    "print(np.tan(0))\n",
    "print(np.sin(np.pi * 0.5))\n",
    "print(np.cos(np.pi * 0.5))\n",
    "np.tan(np.pi * 0.5)"
   ]
  },
  {
   "cell_type": "code",
   "execution_count": 39,
   "metadata": {},
   "outputs": [
    {
     "name": "stdout",
     "output_type": "stream",
     "text": [
      "0.5235987755982989\n",
      "0.5235987755982988\n",
      "1.0471975511965979\n",
      "0.7853981633974483\n",
      "-1.5707963267948966\n",
      "3.141592653589793\n",
      "-0.4636476090008061\n"
     ]
    },
    {
     "data": {
      "text/plain": [
       "0.5"
      ]
     },
     "execution_count": 39,
     "metadata": {},
     "output_type": "execute_result"
    }
   ],
   "source": [
    "print(np.arcsin(0.5))\n",
    "print(np.deg2rad(30))\n",
    "print(np.arccos(0.5))\n",
    "print(np.arctan(1.0))\n",
    "print(np.arcsin(-1.0))\n",
    "print(np.arccos(-1.0))\n",
    "print(np.arctan(-0.5))\n",
    "np.sin(0.5235987755982989)"
   ]
  },
  {
   "cell_type": "code",
   "execution_count": 38,
   "metadata": {},
   "outputs": [
    {
     "name": "stdout",
     "output_type": "stream",
     "text": [
      "2.0943951023931953\n",
      "-1.5707963267948966\n",
      "179.9087476710785\n"
     ]
    }
   ],
   "source": [
    "print(np.deg2rad(120))\n",
    "print(np.deg2rad(-90))\n",
    "print(np.rad2deg(3.14))"
   ]
  },
  {
   "cell_type": "code",
   "execution_count": 40,
   "metadata": {},
   "outputs": [
    {
     "name": "stdout",
     "output_type": "stream",
     "text": [
      "2.718281828459045\n",
      "7.38905609893065\n",
      "1.0\n"
     ]
    }
   ],
   "source": [
    "print(np.exp(1))\n",
    "print(np.exp(2))\n",
    "print(np.exp(0))"
   ]
  },
  {
   "cell_type": "code",
   "execution_count": 49,
   "metadata": {},
   "outputs": [
    {
     "name": "stdout",
     "output_type": "stream",
     "text": [
      "1.0\n",
      "[0.         0.69314718 2.         2.30258509]\n",
      "[0.         1.         2.         2.80735492]\n",
      "[0.      1.      1.30103 2.     ]\n",
      "0.6931471805599453\n",
      "0.0\n"
     ]
    },
    {
     "data": {
      "text/plain": [
       "array([0.69314718, 1.09861229, 2.12692801, 2.39789527])"
      ]
     },
     "execution_count": 49,
     "metadata": {},
     "output_type": "execute_result"
    }
   ],
   "source": [
    "print(np.log(np.e))\n",
    "a = np.array([1., 2., np.e ** 2, 10])\n",
    "print(np.log(a))\n",
    "b = np.array([1., 2., 4. ,7])\n",
    "print(np.log2(b))\n",
    "c = np.array([1., 10., 20., 100])\n",
    "print(np.log10(c))\n",
    "print(np.log(1 + 1))\n",
    "print(np.log1p(0))\n",
    "np.log1p(a)"
   ]
  },
  {
   "cell_type": "code",
   "execution_count": 50,
   "metadata": {},
   "outputs": [
    {
     "name": "stdout",
     "output_type": "stream",
     "text": [
      "0.5\n",
      "2.0\n"
     ]
    }
   ],
   "source": [
    "print(np.log(2) / np.log(4))\n",
    "print(np.log(9) / np.log(3))"
   ]
  },
  {
   "cell_type": "code",
   "execution_count": 58,
   "metadata": {},
   "outputs": [
    {
     "name": "stdout",
     "output_type": "stream",
     "text": [
      "3.6268604078470186\n",
      "3.626860407847019\n",
      "2.0\n",
      "3.7621956910836314\n",
      "0.9640275800758169\n",
      "0.0\n",
      "0.8673005276940532\n"
     ]
    }
   ],
   "source": [
    "print(np.sinh(2))\n",
    "print((np.exp(2) - np.exp(-2)) / 2)\n",
    "print(np.arcsinh(3.6268604078470186))\n",
    "print(np.cosh(2))\n",
    "print(np.tanh(2))\n",
    "print(np.arccosh(1))\n",
    "print(np.arctanh(0.7))"
   ]
  },
  {
   "cell_type": "code",
   "execution_count": 65,
   "metadata": {},
   "outputs": [
    {
     "name": "stdout",
     "output_type": "stream",
     "text": [
      "[-2. -2. -1. -1. -1.  0.  0.  0.  1.  1.  1.]\n",
      "[-1. -1. -1. -0. -0.  0.  0.  0.  1.  1.  1.]\n",
      "[-1. -1. -1. -0. -0.  0.  1.  1.  1.  2.  2.]\n",
      "[-2. -1. -1. -1. -0.  0.  0.  1.  1.  1.  2.]\n",
      "[-2. -1. -1. -1. -0.  0.  0.  1.  1.  1.  2.]\n",
      "[-2. -1. -1. -1. -0.  0.  0.  1.  1.  1.  2.]\n",
      "[-1. -1. -1. -0. -0.  0.  0.  0.  1.  1.  1.]\n"
     ]
    }
   ],
   "source": [
    "a = np.array([-1.8, -1.4, -1.0, -0.6, -0.2, 0., 0.2, 0.6, 1.0, 1.4, 1.8])\n",
    "print(np.floor(a))\n",
    "print(np.trunc(a))\n",
    "print(np.ceil(a))\n",
    "print(np.round(a))\n",
    "print(np.around(a))\n",
    "print(np.rint(a))\n",
    "print(np.fix(a))"
   ]
  },
  {
   "cell_type": "code",
   "execution_count": 70,
   "metadata": {},
   "outputs": [
    {
     "name": "stdout",
     "output_type": "stream",
     "text": [
      "2.5\n",
      "2.5\n",
      "3.605551275463989\n",
      "[ 1.          2.          8.         12.          2.23606798]\n"
     ]
    }
   ],
   "source": [
    "a = -2.5\n",
    "print(np.absolute(a))\n",
    "print(np.fabs(a))\n",
    "b = -2 + 3j\n",
    "print(np.abs(b))\n",
    "# print(np.fabs(b))\n",
    "c = np.array([-1, 2, -8, 12, 1 + 2j])\n",
    "print(np.abs(c))"
   ]
  },
  {
   "cell_type": "markdown",
   "metadata": {},
   "source": [
    "## 3-2 計算元素平均值-average()與mean()"
   ]
  },
  {
   "cell_type": "code",
   "execution_count": 1,
   "metadata": {},
   "outputs": [
    {
     "name": "stdout",
     "output_type": "stream",
     "text": [
      "42.75\n",
      "[[33 44 54 23]\n",
      " [25 55 32 76]]\n"
     ]
    },
    {
     "data": {
      "text/plain": [
       "42.75"
      ]
     },
     "execution_count": 1,
     "metadata": {},
     "output_type": "execute_result"
    }
   ],
   "source": [
    "import numpy as np\n",
    "\n",
    "a = np.array([33, 44, 54, 23, 25, 55, 32, 76])\n",
    "print(np.average(a))\n",
    "a = a.reshape((2, 4))\n",
    "print(a)\n",
    "np.average(a)"
   ]
  },
  {
   "cell_type": "code",
   "execution_count": 78,
   "metadata": {},
   "outputs": [
    {
     "name": "stdout",
     "output_type": "stream",
     "text": [
      "[29.  49.5 43.  49.5]\n",
      "[38.5 47. ]\n",
      "[[[0.99297612 0.22537309 0.39167115 0.76437156]\n",
      "  [0.55498807 0.43548526 0.78709783 0.34595022]\n",
      "  [0.71892233 0.87706978 0.44328259 0.09381974]]\n",
      "\n",
      " [[0.29538729 0.19863756 0.32532604 0.48385871]\n",
      "  [0.03778575 0.42029579 0.360673   0.92339709]\n",
      "  [0.12184673 0.97993335 0.37950688 0.51600108]]]\n",
      "[[0.64418171 0.21200532 0.35849859 0.62411514]\n",
      " [0.29638691 0.42789052 0.57388541 0.63467366]\n",
      " [0.42038453 0.92850157 0.41139474 0.30491041]]\n",
      "[[0.75562884 0.51264271 0.54068385 0.40138051]\n",
      " [0.15167326 0.53295556 0.35516864 0.64108563]]\n"
     ]
    },
    {
     "data": {
      "text/plain": [
       "array([[0.59359798, 0.53088035, 0.53327361],\n",
       "       [0.3258024 , 0.43553791, 0.49932201]])"
      ]
     },
     "execution_count": 78,
     "metadata": {},
     "output_type": "execute_result"
    }
   ],
   "source": [
    "print(np.average(a, axis = 0))\n",
    "print(np.average(a, axis = 1))\n",
    "b = np.random.rand(24).reshape((2, 3, 4))\n",
    "print(b)\n",
    "print(np.average(b, axis = 0))\n",
    "print(np.average(b, axis = 1))\n",
    "np.average(b, axis = 2)"
   ]
  },
  {
   "cell_type": "code",
   "execution_count": 84,
   "metadata": {},
   "outputs": [
    {
     "name": "stdout",
     "output_type": "stream",
     "text": [
      "48.5\n",
      "[[33 44 54 23]\n",
      " [25 55 32 76]]\n"
     ]
    },
    {
     "data": {
      "text/plain": [
       "array([26.6, 52.8, 36.4, 65.4])"
      ]
     },
     "execution_count": 84,
     "metadata": {},
     "output_type": "execute_result"
    }
   ],
   "source": [
    "a = a.flatten()\n",
    "w = np.array([0.1, 0.05, 0.2, 0.0, 0.0, 0.4, 0.2, 0.05])\n",
    "print(np.average(a, weights = w))\n",
    "w2 = np.array([0.2, 0.8])\n",
    "a = a.reshape((2, 4))\n",
    "print(a)\n",
    "np.average(a, axis = 0, weights = w2)"
   ]
  },
  {
   "cell_type": "code",
   "execution_count": 87,
   "metadata": {},
   "outputs": [
    {
     "name": "stdout",
     "output_type": "stream",
     "text": [
      "(42.75, 8.0)\n",
      "[33 44 54 23 25 55 32 76]\n",
      "[0.1  0.05 0.2  0.   0.   0.4  0.2  0.05]\n"
     ]
    },
    {
     "data": {
      "text/plain": [
       "(48.5, 1.0)"
      ]
     },
     "execution_count": 87,
     "metadata": {},
     "output_type": "execute_result"
    }
   ],
   "source": [
    "print(np.average(a, returned = True))\n",
    "a = a.flatten()\n",
    "print(a)\n",
    "print(w)\n",
    "np.average(a, weights = w, returned = True)"
   ]
  },
  {
   "cell_type": "code",
   "execution_count": 2,
   "metadata": {},
   "outputs": [
    {
     "name": "stdout",
     "output_type": "stream",
     "text": [
      "[5 8 9 5 0 0 1 7 6 9 2 4 5 2 4 2 4 7 7 9]\n",
      "4.8\n",
      "4.8\n",
      "[[5 8 9 5 0]\n",
      " [0 1 7 6 9]\n",
      " [2 4 5 2 4]\n",
      " [2 4 7 7 9]]\n",
      "4.8\n",
      "4.8\n"
     ]
    }
   ],
   "source": [
    "import numpy as np\n",
    "\n",
    "np.random.seed(1)\n",
    "a = np.random.randint(0, 10, 20)\n",
    "print(a)\n",
    "print(np.mean(a))\n",
    "print(a.mean())\n",
    "b = a.reshape((4, 5))\n",
    "print(b)\n",
    "print(np.mean(b))\n",
    "print(b.mean())"
   ]
  },
  {
   "cell_type": "code",
   "execution_count": 9,
   "metadata": {},
   "outputs": [
    {
     "name": "stdout",
     "output_type": "stream",
     "text": [
      "[2.25 4.25 7.   5.   5.5 ]\n",
      "[5.4 4.6 3.4 5.8]\n",
      "[[[0.28777534 0.13002857 0.01936696 0.67883553]\n",
      "  [0.21162812 0.26554666 0.49157316 0.05336255]\n",
      "  [0.57411761 0.14672857 0.58930554 0.69975836]]\n",
      "\n",
      " [[0.10233443 0.41405599 0.69440016 0.41417927]\n",
      "  [0.04995346 0.53589641 0.66379465 0.51488911]\n",
      "  [0.94459476 0.58655504 0.90340192 0.1374747 ]]]\n",
      "[[0.19505488 0.27204228 0.35688356 0.5465074 ]\n",
      " [0.13079079 0.40072153 0.5776839  0.28412583]\n",
      " [0.75935618 0.36664181 0.74635373 0.41861653]]\n",
      "[[0.35784035 0.18076794 0.36674855 0.47731881]\n",
      " [0.36562755 0.51216914 0.75386557 0.35551436]]\n",
      "[[0.2790016  0.25552762 0.50247752]\n",
      " [0.40624246 0.44113341 0.6430066 ]]\n"
     ]
    }
   ],
   "source": [
    "print(np.mean(b, axis = 0))\n",
    "print(np.mean(b, axis = 1))\n",
    "c = np.random.rand(24).reshape((2, 3, 4))\n",
    "print(c)\n",
    "print(np.mean(c, axis = 0))\n",
    "print(np.mean(c, axis = 1))\n",
    "print(np.mean(c, axis = 2))"
   ]
  },
  {
   "cell_type": "code",
   "execution_count": 15,
   "metadata": {},
   "outputs": [
    {
     "name": "stdout",
     "output_type": "stream",
     "text": [
      "[[5 8 9 5 0]\n",
      " [0 1 7 6 9]\n",
      " [2 4 5 2 4]\n",
      " [2 4 7 7 9]]\n",
      "[[4.8]]\n",
      "(1, 1)\n",
      "4.8\n",
      "[[5.4]\n",
      " [4.6]\n",
      " [3.4]\n",
      " [5.8]]\n",
      "(4, 1)\n",
      "[5.4 4.6 3.4 5.8]\n"
     ]
    },
    {
     "data": {
      "text/plain": [
       "(4,)"
      ]
     },
     "execution_count": 15,
     "metadata": {},
     "output_type": "execute_result"
    }
   ],
   "source": [
    "print(b)\n",
    "e = np.mean(b, keepdims = True)\n",
    "print(e)\n",
    "print(e.shape)\n",
    "f = np.mean(b, keepdims = False)\n",
    "print(f)\n",
    "g = np.mean(b, axis = 1, keepdims = True)\n",
    "print(g)\n",
    "print(g.shape)\n",
    "h = np.mean(b, axis = 1, keepdims = False)\n",
    "print(h)\n",
    "h.shape"
   ]
  },
  {
   "cell_type": "markdown",
   "metadata": {},
   "source": [
    "## 3-3 計算中位數-median()"
   ]
  },
  {
   "cell_type": "code",
   "execution_count": 3,
   "metadata": {},
   "outputs": [
    {
     "name": "stdout",
     "output_type": "stream",
     "text": [
      "[[[16  7 50 26]\n",
      "  [32 42 48 77]\n",
      "  [ 9 70 18 47]]\n",
      "\n",
      " [[45 51  5 29]\n",
      "  [91 10 78 54]\n",
      "  [84 74 43  4]]]\n",
      "43 45\n"
     ]
    },
    {
     "data": {
      "text/plain": [
       "44.0"
      ]
     },
     "execution_count": 3,
     "metadata": {},
     "output_type": "execute_result"
    }
   ],
   "source": [
    "import numpy as np\n",
    "\n",
    "a = np.random.randint(100, size = (2, 3, 4))\n",
    "print(a)\n",
    "b = a.flatten()\n",
    "b.sort()\n",
    "print(b[11], b[12])\n",
    "np.median(a)"
   ]
  },
  {
   "cell_type": "code",
   "execution_count": 19,
   "metadata": {},
   "outputs": [
    {
     "name": "stdout",
     "output_type": "stream",
     "text": [
      "[[57.  72.5 38. ]\n",
      " [62.5 35.  88. ]]\n",
      "[[76. 38. 43. 43.]\n",
      " [82. 69. 73. 26.]]\n"
     ]
    }
   ],
   "source": [
    "print(np.median(a, axis = 2))\n",
    "print(np.median(a, axis = 1))"
   ]
  },
  {
   "cell_type": "code",
   "execution_count": 6,
   "metadata": {},
   "outputs": [
    {
     "name": "stdout",
     "output_type": "stream",
     "text": [
      "[[[16  7 50 26]\n",
      "  [32 42 48 77]\n",
      "  [ 9 70 18 47]]\n",
      "\n",
      " [[45 51  5 29]\n",
      "  [91 10 78 54]\n",
      "  [84 74 43  4]]]\n",
      "[[16. 42. 48. 47.]\n",
      " [84. 51. 43. 29.]]\n",
      "False\n",
      "True\n",
      "[[[16  7 50 26]\n",
      "  [32 42 48 77]\n",
      "  [ 9 70 18 47]]\n",
      "\n",
      " [[45 51  5 29]\n",
      "  [91 10 78 54]\n",
      "  [84 74 43  4]]]\n",
      "[[[ 9  7 18 26]\n",
      "  [16 42 48 47]\n",
      "  [32 70 50 77]]\n",
      "\n",
      " [[45 10  5  4]\n",
      "  [84 51 43 29]\n",
      "  [91 74 78 54]]]\n"
     ]
    }
   ],
   "source": [
    "b = a.copy()\n",
    "print(b)\n",
    "print(np.median(b, axis = 1, overwrite_input = True))\n",
    "print(np.all(a == b))\n",
    "print(np.all(a == a))\n",
    "print(a)\n",
    "print(b)"
   ]
  },
  {
   "cell_type": "code",
   "execution_count": 26,
   "metadata": {},
   "outputs": [
    {
     "name": "stdout",
     "output_type": "stream",
     "text": [
      "38.4 µs ± 933 ns per loop (mean ± std. dev. of 7 runs, 10,000 loops each)\n",
      "34.2 µs ± 892 ns per loop (mean ± std. dev. of 7 runs, 10,000 loops each)\n"
     ]
    }
   ],
   "source": [
    "b = a.copy()\n",
    "%timeit np.median(a, axis = 1)\n",
    "%timeit np.median(b, axis = 1, overwrite_input = True)"
   ]
  },
  {
   "cell_type": "code",
   "execution_count": 30,
   "metadata": {},
   "outputs": [
    {
     "name": "stdout",
     "output_type": "stream",
     "text": [
      "[[[63.5 78.  56.  47.5]\n",
      "  [82.5 32.5 67.  35. ]\n",
      "  [90.  63.5 69.5 26. ]]]\n",
      "[[63.5 78.  56.  47.5]\n",
      " [82.5 32.5 67.  35. ]\n",
      " [90.  63.5 69.5 26. ]]\n",
      "[[76. 38. 43. 43.]\n",
      " [82. 69. 73. 26.]]\n",
      "[[[76. 38. 43. 43.]]\n",
      "\n",
      " [[82. 69. 73. 26.]]]\n"
     ]
    }
   ],
   "source": [
    "print(np.median(a, axis = 0, keepdims = True))\n",
    "print(np.mean(a, axis = 0))\n",
    "print(np.median(a, axis = 1, keepdims = False))\n",
    "print(np.median(a, axis = 1, keepdims = True))"
   ]
  },
  {
   "cell_type": "markdown",
   "metadata": {},
   "source": [
    "## 3-4 計算元素總和-sum()"
   ]
  },
  {
   "cell_type": "code",
   "execution_count": 10,
   "metadata": {},
   "outputs": [
    {
     "name": "stdout",
     "output_type": "stream",
     "text": [
      "[[0 1 8 4 3]\n",
      " [3 1 8 2 1]]\n",
      "31\n",
      "13\n",
      "[[[6 4 8 8 3]\n",
      "  [1 7 8 8 9]\n",
      "  [3 2 5 6 3]\n",
      "  [7 8 8 1 3]]\n",
      "\n",
      " [[9 7 2 9 5]\n",
      "  [8 2 7 6 0]\n",
      "  [0 8 2 3 7]\n",
      "  [2 0 0 6 6]]]\n"
     ]
    },
    {
     "data": {
      "text/plain": [
       "197"
      ]
     },
     "execution_count": 10,
     "metadata": {},
     "output_type": "execute_result"
    }
   ],
   "source": [
    "import numpy as np\n",
    "\n",
    "a = np.random.randint(0, 10, size = (2, 5))\n",
    "print(a)\n",
    "print(np.sum(a))\n",
    "b = np.array([2, 4, 1, 6])\n",
    "print(np.sum(b))\n",
    "c = np.random.randint(0, 10, size = (2, 4, 5))\n",
    "print(c)\n",
    "np.sum(c)"
   ]
  },
  {
   "cell_type": "code",
   "execution_count": 18,
   "metadata": {},
   "outputs": [
    {
     "name": "stdout",
     "output_type": "stream",
     "text": [
      "[[0 1 8 4 3]\n",
      " [3 1 8 2 1]]\n",
      "[ 3  2 16  6  4]\n",
      "[16 15]\n",
      "[[[6 4 8 8 3]\n",
      "  [1 7 8 8 9]\n",
      "  [3 2 5 6 3]\n",
      "  [7 8 8 1 3]]\n",
      "\n",
      " [[9 7 2 9 5]\n",
      "  [8 2 7 6 0]\n",
      "  [0 8 2 3 7]\n",
      "  [2 0 0 6 6]]]\n",
      "[[15 11 10 17  8]\n",
      " [ 9  9 15 14  9]\n",
      " [ 3 10  7  9 10]\n",
      " [ 9  8  8  7  9]]\n",
      "[[17 21 29 23 18]\n",
      " [19 17 11 24 18]]\n",
      "[[29 33 19 27]\n",
      " [32 23 20 14]]\n"
     ]
    }
   ],
   "source": [
    "print(a)\n",
    "print(np.sum(a, axis = 0))\n",
    "print(np.sum(a, axis = 1))\n",
    "print(c)\n",
    "print(np.sum(c, axis = 0))\n",
    "print(np.sum(c, axis = 1))\n",
    "print(np.sum(c, axis = 2))"
   ]
  },
  {
   "cell_type": "code",
   "execution_count": 21,
   "metadata": {},
   "outputs": [
    {
     "name": "stdout",
     "output_type": "stream",
     "text": [
      "[[[15 11 10 17  8]\n",
      "  [ 9  9 15 14  9]\n",
      "  [ 3 10  7  9 10]\n",
      "  [ 9  8  8  7  9]]]\n",
      "[[[17 21 29 23 18]]\n",
      "\n",
      " [[19 17 11 24 18]]]\n"
     ]
    },
    {
     "data": {
      "text/plain": [
       "array([[[29],\n",
       "        [33],\n",
       "        [19],\n",
       "        [27]],\n",
       "\n",
       "       [[32],\n",
       "        [23],\n",
       "        [20],\n",
       "        [14]]])"
      ]
     },
     "execution_count": 21,
     "metadata": {},
     "output_type": "execute_result"
    }
   ],
   "source": [
    "print(np.sum(c, axis = 0, keepdims = True))\n",
    "print(np.sum(c, axis = 1, keepdims = True))\n",
    "np.sum(c, axis = 2, keepdims = True)"
   ]
  },
  {
   "cell_type": "markdown",
   "metadata": {},
   "source": [
    "## 3-5 計算標準差-std()"
   ]
  },
  {
   "cell_type": "code",
   "execution_count": 32,
   "metadata": {},
   "outputs": [
    {
     "name": "stdout",
     "output_type": "stream",
     "text": [
      "45695.16325243479\n",
      "13.4412301024373\n"
     ]
    }
   ],
   "source": [
    "import numpy as np\n",
    "\n",
    "print(np.std([10, 6440, 99999])) # 可以用()取代[]\n",
    "print(np.std([99999, 99998, 99970]))"
   ]
  },
  {
   "cell_type": "code",
   "execution_count": 22,
   "metadata": {},
   "outputs": [
    {
     "name": "stdout",
     "output_type": "stream",
     "text": [
      "[0.74941111 0.61172255 0.87142807 0.09753265 0.98000602 0.79797441\n",
      " 0.90009354 0.7355938  0.32395146 0.51340009]\n"
     ]
    },
    {
     "data": {
      "text/plain": [
       "0.2627890798981281"
      ]
     },
     "execution_count": 22,
     "metadata": {},
     "output_type": "execute_result"
    }
   ],
   "source": [
    "import numpy as np\n",
    "\n",
    "a = np.random.rand(10)\n",
    "print(a)\n",
    "np.std(a)"
   ]
  },
  {
   "cell_type": "code",
   "execution_count": 25,
   "metadata": {},
   "outputs": [
    {
     "name": "stdout",
     "output_type": "stream",
     "text": [
      "[[[0.67201297 0.82617263 0.64713289 0.10424272]\n",
      "  [0.72787859 0.40598977 0.84691874 0.4863432 ]\n",
      "  [0.80998006 0.89804402 0.52186912 0.05369402]]\n",
      "\n",
      " [[0.41584835 0.99454696 0.35442087 0.30495184]\n",
      "  [0.79241042 0.03034979 0.39688563 0.36425235]\n",
      "  [0.28769544 0.96224166 0.02153898 0.87496719]]]\n",
      "[[0.12808231 0.08418717 0.14635601 0.10035456]\n",
      " [0.03226591 0.18781999 0.22501656 0.06104542]\n",
      " [0.26114231 0.03209882 0.25016507 0.41063659]]\n"
     ]
    },
    {
     "data": {
      "text/plain": [
       "0.1280823071377552"
      ]
     },
     "execution_count": 25,
     "metadata": {},
     "output_type": "execute_result"
    }
   ],
   "source": [
    "b = np.random.rand(2, 3, 4)\n",
    "print(b)\n",
    "print(np.std(b, axis = 0))\n",
    "np.std([b[0][0][0], b[1][0][0]])"
   ]
  },
  {
   "cell_type": "code",
   "execution_count": 29,
   "metadata": {},
   "outputs": [
    {
     "name": "stdout",
     "output_type": "stream",
     "text": [
      "0.30258279934246063\n",
      "0.3090907008426403\n"
     ]
    }
   ],
   "source": [
    "print(np.std(b))\n",
    "print(np.std(b, ddof = 1))"
   ]
  },
  {
   "cell_type": "markdown",
   "metadata": {},
   "source": [
    "## 3-6 計算變異數-var()"
   ]
  },
  {
   "cell_type": "code",
   "execution_count": 30,
   "metadata": {},
   "outputs": [
    {
     "data": {
      "text/plain": [
       "43.55555555555555"
      ]
     },
     "execution_count": 30,
     "metadata": {},
     "output_type": "execute_result"
    }
   ],
   "source": [
    "import numpy as np\n",
    "\n",
    "a = np.array([10, 20, 12, 0, 3, 5])\n",
    "np.var(a)"
   ]
  },
  {
   "cell_type": "markdown",
   "metadata": {},
   "source": [
    "## 3-7 計算共變異數-cov()"
   ]
  },
  {
   "cell_type": "code",
   "execution_count": 39,
   "metadata": {},
   "outputs": [
    {
     "name": "stdout",
     "output_type": "stream",
     "text": [
      "[[10.66666667  6.66666667]\n",
      " [ 6.66666667 11.33333333]]\n",
      "10.666666666666666\n",
      "11.333333333333334\n",
      "[[10.66666667  6.66666667  4.66666667]\n",
      " [ 6.66666667 11.33333333  1.66666667]\n",
      " [ 4.66666667  1.66666667  5.        ]]\n",
      "5.0\n"
     ]
    }
   ],
   "source": [
    "a = np.array([[10, 5, 2, 4, 9, 3, 2], \n",
    "              [10, 2, 8, 3, 7, 4, 1]])\n",
    "print(np.cov(a))\n",
    "print(np.var(a[0], ddof = 1))\n",
    "print(np.var(a[1], ddof = 1))\n",
    "c = np.array([3, 2, 1, 5, 7, 2, 1])\n",
    "print(np.cov(a, c))\n",
    "print(np.var(c, ddof = 1))"
   ]
  },
  {
   "cell_type": "code",
   "execution_count": 44,
   "metadata": {},
   "outputs": [
    {
     "data": {
      "text/html": [
       "<div>\n",
       "<style scoped>\n",
       "    .dataframe tbody tr th:only-of-type {\n",
       "        vertical-align: middle;\n",
       "    }\n",
       "\n",
       "    .dataframe tbody tr th {\n",
       "        vertical-align: top;\n",
       "    }\n",
       "\n",
       "    .dataframe thead th {\n",
       "        text-align: right;\n",
       "    }\n",
       "</style>\n",
       "<table border=\"1\" class=\"dataframe\">\n",
       "  <thead>\n",
       "    <tr style=\"text-align: right;\">\n",
       "      <th></th>\n",
       "      <th>0</th>\n",
       "      <th>1</th>\n",
       "      <th>2</th>\n",
       "    </tr>\n",
       "  </thead>\n",
       "  <tbody>\n",
       "    <tr>\n",
       "      <th>0</th>\n",
       "      <td>1.000000</td>\n",
       "      <td>0.606339</td>\n",
       "      <td>0.639010</td>\n",
       "    </tr>\n",
       "    <tr>\n",
       "      <th>1</th>\n",
       "      <td>0.606339</td>\n",
       "      <td>1.000000</td>\n",
       "      <td>0.221404</td>\n",
       "    </tr>\n",
       "    <tr>\n",
       "      <th>2</th>\n",
       "      <td>0.639010</td>\n",
       "      <td>0.221404</td>\n",
       "      <td>1.000000</td>\n",
       "    </tr>\n",
       "  </tbody>\n",
       "</table>\n",
       "</div>"
      ],
      "text/plain": [
       "          0         1         2\n",
       "0  1.000000  0.606339  0.639010\n",
       "1  0.606339  1.000000  0.221404\n",
       "2  0.639010  0.221404  1.000000"
      ]
     },
     "execution_count": 44,
     "metadata": {},
     "output_type": "execute_result"
    }
   ],
   "source": [
    "import pandas as pd\n",
    "\n",
    "df = pd.DataFrame(np.vstack((a, c))).T\n",
    "df.corr()"
   ]
  },
  {
   "cell_type": "code",
   "execution_count": 49,
   "metadata": {},
   "outputs": [
    {
     "name": "stdout",
     "output_type": "stream",
     "text": [
      "[[10.66666667  6.66666667]\n",
      " [ 6.66666667 11.33333333]]\n",
      "[[9.14285714 5.71428571]\n",
      " [5.71428571 9.71428571]]\n",
      "9.142857142857142\n",
      "9.714285714285714\n"
     ]
    }
   ],
   "source": [
    "print(np.cov(a, bias = False))\n",
    "print(np.cov(a, bias = True))\n",
    "print(np.var(a[0]))\n",
    "print(np.var(a[1]))"
   ]
  },
  {
   "cell_type": "code",
   "execution_count": 52,
   "metadata": {},
   "outputs": [
    {
     "name": "stdout",
     "output_type": "stream",
     "text": [
      "[[10.66666667  6.66666667]\n",
      " [ 6.66666667 11.33333333]]\n",
      "[[10.66666667  6.66666667]\n",
      " [ 6.66666667 11.33333333]]\n",
      "[[9.14285714 5.71428571]\n",
      " [5.71428571 9.71428571]]\n"
     ]
    }
   ],
   "source": [
    "print(np.cov(a, ddof = None))\n",
    "print(np.cov(a, ddof = 1))\n",
    "print(np.cov(a, ddof = 0))"
   ]
  },
  {
   "cell_type": "code",
   "execution_count": 54,
   "metadata": {},
   "outputs": [
    {
     "name": "stdout",
     "output_type": "stream",
     "text": [
      "[[10  5  2  4  9  3  2]\n",
      " [10  2  8  3  7  4  1]]\n"
     ]
    },
    {
     "data": {
      "text/plain": [
       "array([[ 9.   ,  3.875],\n",
       "       [ 3.875, 10.75 ]])"
      ]
     },
     "execution_count": 54,
     "metadata": {},
     "output_type": "execute_result"
    }
   ],
   "source": [
    "print(a)\n",
    "fweights = np.array([1, 2, 2, 1, 1, 1, 1])\n",
    "np.cov(a, fweights = fweights)"
   ]
  },
  {
   "cell_type": "code",
   "execution_count": 60,
   "metadata": {},
   "outputs": [
    {
     "name": "stdout",
     "output_type": "stream",
     "text": [
      "[[10.66666667  6.66666667]\n",
      " [ 6.66666667 11.33333333]]\n",
      "[[ 8.61904762  3.83333333]\n",
      " [ 3.83333333 10.66666667]]\n"
     ]
    }
   ],
   "source": [
    "aweights = np.array([0.1, 0.2, 0.2, 0.2, 0.1, 0.1, 0.1])\n",
    "print(np.cov(a, aweights = None))\n",
    "print(np.cov(a, aweights = aweights))"
   ]
  },
  {
   "cell_type": "markdown",
   "metadata": {},
   "source": [
    "## 3-8 計算相關係數-corrcoef()"
   ]
  },
  {
   "cell_type": "code",
   "execution_count": 61,
   "metadata": {},
   "outputs": [
    {
     "data": {
      "text/plain": [
       "array([[ 1.        , -0.05640533],\n",
       "       [-0.05640533,  1.        ]])"
      ]
     },
     "execution_count": 61,
     "metadata": {},
     "output_type": "execute_result"
    }
   ],
   "source": [
    "import numpy as np\n",
    "\n",
    "x = np.array([\n",
    "    [1, 2, 1, 9, 10, 3, 2, 6, 7], \n",
    "    [2, 1, 8, 3, 7, 5, 10, 7, 2]\n",
    "])\n",
    "np.corrcoef(x)"
   ]
  },
  {
   "cell_type": "code",
   "execution_count": 62,
   "metadata": {},
   "outputs": [
    {
     "data": {
      "text/plain": [
       "array([[ 1.        , -0.05640533,  0.97094584],\n",
       "       [-0.05640533,  1.        , -0.01315587],\n",
       "       [ 0.97094584, -0.01315587,  1.        ]])"
      ]
     },
     "execution_count": 62,
     "metadata": {},
     "output_type": "execute_result"
    }
   ],
   "source": [
    "y = np.array([2, 1, 1, 8, 9, 4, 3, 5, 7])\n",
    "np.corrcoef(x, y)"
   ]
  },
  {
   "cell_type": "code",
   "execution_count": 69,
   "metadata": {},
   "outputs": [
    {
     "name": "stdout",
     "output_type": "stream",
     "text": [
      "[[ 1. -1.  1. -1. -1.  1.  1.  1. -1.]\n",
      " [-1.  1. -1.  1.  1. -1. -1. -1.  1.]\n",
      " [ 1. -1.  1. -1. -1.  1.  1.  1. -1.]\n",
      " [-1.  1. -1.  1.  1. -1. -1. -1.  1.]\n",
      " [-1.  1. -1.  1.  1. -1. -1. -1.  1.]\n",
      " [ 1. -1.  1. -1. -1.  1.  1.  1. -1.]\n",
      " [ 1. -1.  1. -1. -1.  1.  1.  1. -1.]\n",
      " [ 1. -1.  1. -1. -1.  1.  1.  1. -1.]\n",
      " [-1.  1. -1.  1.  1. -1. -1. -1.  1.]]\n",
      "[[ 1.         -0.05640533]\n",
      " [-0.05640533  1.        ]]\n"
     ]
    },
    {
     "data": {
      "text/plain": [
       "array([[ 1., -1.,  1., -1., -1.,  1.,  1.,  1., -1.],\n",
       "       [-1.,  1., -1.,  1.,  1., -1., -1., -1.,  1.],\n",
       "       [ 1., -1.,  1., -1., -1.,  1.,  1.,  1., -1.],\n",
       "       [-1.,  1., -1.,  1.,  1., -1., -1., -1.,  1.],\n",
       "       [-1.,  1., -1.,  1.,  1., -1., -1., -1.,  1.],\n",
       "       [ 1., -1.,  1., -1., -1.,  1.,  1.,  1., -1.],\n",
       "       [ 1., -1.,  1., -1., -1.,  1.,  1.,  1., -1.],\n",
       "       [ 1., -1.,  1., -1., -1.,  1.,  1.,  1., -1.],\n",
       "       [-1.,  1., -1.,  1.,  1., -1., -1., -1.,  1.]])"
      ]
     },
     "execution_count": 69,
     "metadata": {},
     "output_type": "execute_result"
    }
   ],
   "source": [
    "print(np.corrcoef(x, rowvar = False))\n",
    "x_transpose = x.T\n",
    "# x_transpose\n",
    "print(np.corrcoef(x_transpose, rowvar = False))\n",
    "np.corrcoef(x_transpose, rowvar = True) # 等於不設rowvar"
   ]
  },
  {
   "cell_type": "markdown",
   "metadata": {},
   "source": [
    "## 3-9 網格陣列-meshgrid()"
   ]
  },
  {
   "cell_type": "code",
   "execution_count": 71,
   "metadata": {},
   "outputs": [
    {
     "name": "stdout",
     "output_type": "stream",
     "text": [
      "[[0 1 2]\n",
      " [0 1 2]]\n",
      "[[4 4 4]\n",
      " [0 0 0]]\n"
     ]
    }
   ],
   "source": [
    "import numpy as np\n",
    "\n",
    "a = np.array([0, 1, 2])\n",
    "b = np.array([4, 0])\n",
    "aa, bb = np.meshgrid(a, b)\n",
    "print(aa)\n",
    "print(bb)"
   ]
  },
  {
   "cell_type": "code",
   "execution_count": 80,
   "metadata": {},
   "outputs": [
    {
     "name": "stdout",
     "output_type": "stream",
     "text": [
      "[[0 1 2]\n",
      " [0 1 2]]\n",
      "[[4 4 4]\n",
      " [0 0 0]]\n",
      "[[0 0]\n",
      " [1 1]\n",
      " [2 2]]\n"
     ]
    },
    {
     "data": {
      "text/plain": [
       "array([[4, 0],\n",
       "       [4, 0],\n",
       "       [4, 0]])"
      ]
     },
     "execution_count": 80,
     "metadata": {},
     "output_type": "execute_result"
    }
   ],
   "source": [
    "aa2, bb2 = np.meshgrid(a, b, indexing = \"xy\")\n",
    "print(aa2)\n",
    "print(bb2)\n",
    "aa3, bb3 = np.meshgrid(a, b, indexing = \"ij\")\n",
    "print(aa3)\n",
    "print(bb3)"
   ]
  },
  {
   "cell_type": "code",
   "execution_count": 79,
   "metadata": {},
   "outputs": [
    {
     "name": "stdout",
     "output_type": "stream",
     "text": [
      "[[0 1 2]]\n",
      "[[4]\n",
      " [0]]\n"
     ]
    }
   ],
   "source": [
    "av, bv = np.meshgrid(a, b, sparse = True)\n",
    "print(av)\n",
    "print(bv)"
   ]
  },
  {
   "cell_type": "markdown",
   "metadata": {},
   "source": [
    "## 3-10 點積運算-dot()"
   ]
  },
  {
   "cell_type": "code",
   "execution_count": 83,
   "metadata": {},
   "outputs": [
    {
     "name": "stdout",
     "output_type": "stream",
     "text": [
      "10\n",
      "20\n"
     ]
    }
   ],
   "source": [
    "import numpy as np\n",
    "\n",
    "a = np.array([1, 2])\n",
    "b = np.array([4, 3])\n",
    "print(np.dot(a, b))\n",
    "print(np.dot(4, 5))"
   ]
  },
  {
   "cell_type": "code",
   "execution_count": 88,
   "metadata": {},
   "outputs": [
    {
     "name": "stdout",
     "output_type": "stream",
     "text": [
      "[[4 3]]\n",
      "[[4]\n",
      " [3]]\n"
     ]
    },
    {
     "data": {
      "text/plain": [
       "matrix([[10]])"
      ]
     },
     "execution_count": 88,
     "metadata": {},
     "output_type": "execute_result"
    }
   ],
   "source": [
    "e = np.matrix([1, 2])\n",
    "f = np.matrix([4, 3])\n",
    "print(f)\n",
    "# print(np.dot(e, f))\n",
    "f = np.matrix([[4], [3]])\n",
    "print(f)\n",
    "np.dot(e, f)\n"
   ]
  },
  {
   "cell_type": "code",
   "execution_count": null,
   "metadata": {},
   "outputs": [],
   "source": [
    "a = np.array([[1, 2], [3, 4]])\n",
    "b = np.array([[4, 3], [2, 1]])\n",
    "np.dot(a, b)"
   ]
  },
  {
   "cell_type": "code",
   "execution_count": 89,
   "metadata": {},
   "outputs": [
    {
     "name": "stdout",
     "output_type": "stream",
     "text": [
      "10\n"
     ]
    },
    {
     "data": {
      "text/plain": [
       "array([[ 3.,  3.,  3.],\n",
       "       [12., 12., 12.],\n",
       "       [21., 21., 21.]])"
      ]
     },
     "execution_count": 89,
     "metadata": {},
     "output_type": "execute_result"
    }
   ],
   "source": [
    "print(np.dot(b, a))\n",
    "c = np.arange(9).reshape((3, 3))\n",
    "d = np.ones((3, 3))\n",
    "np.dot(c, d)"
   ]
  },
  {
   "cell_type": "code",
   "execution_count": 91,
   "metadata": {},
   "outputs": [],
   "source": [
    "a = np.arange(12).reshape((4, 3))\n",
    "b = np.arange(16).reshape((4, 4))\n",
    "# np.dot(a, b)"
   ]
  },
  {
   "cell_type": "code",
   "execution_count": 92,
   "metadata": {},
   "outputs": [
    {
     "data": {
      "text/plain": [
       "matrix([[ 3,  3,  3],\n",
       "        [12, 12, 12],\n",
       "        [21, 21, 21]])"
      ]
     },
     "execution_count": 92,
     "metadata": {},
     "output_type": "execute_result"
    }
   ],
   "source": [
    "e = np.matrix([[0, 1, 2], [3, 4, 5], [6, 7, 8]])\n",
    "f = np.matrix([[1, 1, 1], [1, 1, 1], [1, 1, 1]])\n",
    "np.dot(e, f)"
   ]
  },
  {
   "cell_type": "markdown",
   "metadata": {},
   "source": [
    "## 3-11 計算矩陣的determinant-linalg.det()"
   ]
  },
  {
   "cell_type": "code",
   "execution_count": 98,
   "metadata": {},
   "outputs": [
    {
     "name": "stdout",
     "output_type": "stream",
     "text": [
      "[[ 2  3]\n",
      " [ 4 -1]]\n",
      "-14.000000000000004\n",
      "[[[ 1 -5 -2]\n",
      "  [-3 -3 -2]\n",
      "  [-1 -4  0]]\n",
      "\n",
      " [[-5 -3  3]\n",
      "  [ 1  4 -4]\n",
      "  [-2  5  1]]\n",
      "\n",
      " [[ 4 -5 -3]\n",
      "  [-5  1 -3]\n",
      "  [ 0 -3  2]]]\n"
     ]
    },
    {
     "data": {
      "text/plain": [
       "array([ -36., -102., -123.])"
      ]
     },
     "execution_count": 98,
     "metadata": {},
     "output_type": "execute_result"
    }
   ],
   "source": [
    "import numpy as np\n",
    "import numpy.linalg as LA\n",
    "\n",
    "a = np.array([[2, 3], [4, -1]])\n",
    "print(a)\n",
    "print(LA.det(a))\n",
    "d = np.random.randint(-5, 6, size = (3, 3, 3))\n",
    "print(d)\n",
    "LA.det(d)"
   ]
  },
  {
   "cell_type": "markdown",
   "metadata": {},
   "source": [
    "## 3-12 計算矩陣的「特徵值」與「特徵向量」-linalg.eig()"
   ]
  },
  {
   "cell_type": "code",
   "execution_count": 4,
   "metadata": {},
   "outputs": [
    {
     "name": "stdout",
     "output_type": "stream",
     "text": [
      "[[1 0]\n",
      " [0 2]]\n",
      "(array([1., 2.]), array([[1., 0.],\n",
      "       [0., 1.]]))\n",
      "[[ 2  5]\n",
      " [ 3 -8]]\n"
     ]
    },
    {
     "data": {
      "text/plain": [
       "(array([ 3.32455532, -9.32455532]),\n",
       " array([[ 0.96665615, -0.40390206],\n",
       "        [ 0.25607791,  0.91480224]]))"
      ]
     },
     "execution_count": 4,
     "metadata": {},
     "output_type": "execute_result"
    }
   ],
   "source": [
    "import numpy as np\n",
    "import numpy.linalg as LA\n",
    "\n",
    "a = np.array([[1, 0], [0, 2]])\n",
    "print(a)\n",
    "print(LA.eig(a))\n",
    "b = np.array([[2, 5], [3, -8]])\n",
    "print(b)\n",
    "LA.eig(b)"
   ]
  },
  {
   "cell_type": "code",
   "execution_count": 9,
   "metadata": {},
   "outputs": [
    {
     "name": "stdout",
     "output_type": "stream",
     "text": [
      "[ 5.82642252+4.02867447j  5.82642252-4.02867447j -7.65284504+0.j        ]\n"
     ]
    },
    {
     "data": {
      "text/plain": [
       "array([[-0.41949945+0.55137973j, -0.41949945-0.55137973j,\n",
       "        -0.39580644+0.j        ],\n",
       "       [-0.0132865 -0.07588604j, -0.0132865 +0.07588604j,\n",
       "         0.74877344+0.j        ],\n",
       "       [ 0.71698354+0.j        ,  0.71698354-0.j        ,\n",
       "         0.53167246+0.j        ]])"
      ]
     },
     "execution_count": 9,
     "metadata": {},
     "output_type": "execute_result"
    }
   ],
   "source": [
    "c = np.random.randint(-10, 10, size = (3, 3))\n",
    "w, v = LA.eig(c)\n",
    "print(w)\n",
    "v"
   ]
  },
  {
   "cell_type": "code",
   "execution_count": 12,
   "metadata": {},
   "outputs": [
    {
     "name": "stdout",
     "output_type": "stream",
     "text": [
      "[[[  5   6   0]\n",
      "  [  5   9  -3]\n",
      "  [ -4   2 -10]]\n",
      "\n",
      " [[  9   7   5]\n",
      "  [  8   5  -8]\n",
      "  [ -4  -3  -1]]\n",
      "\n",
      " [[  7  -4  -7]\n",
      "  [ -6   4  -4]\n",
      "  [ -2   4  -6]]]\n",
      "[[12.92178293+0.j          0.39855401+0.j         -9.32033694+0.j        ]\n",
      " [14.93700493+0.j          0.03396691+0.j         -1.97097184+0.j        ]\n",
      " [11.49266477+0.j         -3.24633239+2.01973903j -3.24633239-2.01973903j]]\n"
     ]
    },
    {
     "data": {
      "text/plain": [
       "array([[[-0.60338463+0.j        , -0.73100782+0.j        ,\n",
       "         -0.07595697+0.j        ],\n",
       "        [-0.79664701+0.j        ,  0.5606155 +0.j        ,\n",
       "          0.18128824+0.j        ],\n",
       "        [ 0.0357845 +0.j        ,  0.38902162+0.j        ,\n",
       "          0.98049228+0.j        ]],\n",
       "\n",
       "       [[-0.61614407+0.j        , -0.58412719+0.j        ,\n",
       "         -0.574633  +0.j        ],\n",
       "        [-0.73137898+0.j        ,  0.80741536+0.j        ,\n",
       "          0.80809744+0.j        ],\n",
       "        [ 0.2923205 +0.j        , -0.08292076+0.j        ,\n",
       "          0.12952007+0.j        ]],\n",
       "\n",
       "       [[-0.81516577+0.j        , -0.55372494+0.06213923j,\n",
       "         -0.55372494-0.06213923j],\n",
       "        [ 0.5374107 +0.j        , -0.68114627+0.j        ,\n",
       "         -0.68114627-0.j        ],\n",
       "        [ 0.21608911+0.j        , -0.40336566+0.25072558j,\n",
       "         -0.40336566-0.25072558j]]])"
      ]
     },
     "execution_count": 12,
     "metadata": {},
     "output_type": "execute_result"
    }
   ],
   "source": [
    "c = np.random.randint(-10, 10, size = (3, 3, 3))\n",
    "print(c)\n",
    "w, v = LA.eig(c)\n",
    "print(w)\n",
    "v"
   ]
  },
  {
   "cell_type": "markdown",
   "metadata": {},
   "source": [
    "## 3-13 計算矩陣的rank-linalg.matrix_rank()"
   ]
  },
  {
   "cell_type": "code",
   "execution_count": 15,
   "metadata": {},
   "outputs": [
    {
     "name": "stdout",
     "output_type": "stream",
     "text": [
      "4\n",
      "3\n"
     ]
    },
    {
     "data": {
      "text/plain": [
       "4"
      ]
     },
     "execution_count": 15,
     "metadata": {},
     "output_type": "execute_result"
    }
   ],
   "source": [
    "import numpy as np\n",
    "\n",
    "A = np.array([[1, 1, 4, 0, 1], \n",
    "              [0, 3, 1, 3, 2], \n",
    "              [1, 3, 0, 0, 1], \n",
    "              [2, 4, 3, 1, 1]])\n",
    "print(np.linalg.matrix_rank(A))\n",
    "B = np.array([[1, 2, 3, 0], \n",
    "              [2, 4, 6, 0], \n",
    "              [1, 0, 1, 2], \n",
    "              [1, 0, 0, 3]])\n",
    "print(np.linalg.matrix_rank(B))\n",
    "C = np.array([[1, 2, 3, 0], \n",
    "              [2, 4, 7, 0], \n",
    "              [1, 0, 1, 2], \n",
    "              [1, 0, 0, 3]])\n",
    "np.linalg.matrix_rank(C)"
   ]
  },
  {
   "cell_type": "markdown",
   "metadata": {},
   "source": [
    "## 3-14 計算矩陣的「反矩陣」-linalg.inv()"
   ]
  },
  {
   "cell_type": "code",
   "execution_count": 6,
   "metadata": {},
   "outputs": [
    {
     "name": "stdout",
     "output_type": "stream",
     "text": [
      "[[-9  5]\n",
      " [-6 -3]]\n",
      "[[-0.05263158 -0.0877193 ]\n",
      " [ 0.10526316 -0.15789474]]\n",
      "[[1.00000000e+00 0.00000000e+00]\n",
      " [5.55111512e-17 1.00000000e+00]]\n"
     ]
    }
   ],
   "source": [
    "import numpy as np\n",
    "\n",
    "a = np.random.randint(-9, 10, size = (2, 2))\n",
    "print(a)\n",
    "print(np.linalg.inv(a))\n",
    "print(np.dot(a, np.linalg.inv(a)))"
   ]
  },
  {
   "cell_type": "code",
   "execution_count": 9,
   "metadata": {},
   "outputs": [
    {
     "name": "stdout",
     "output_type": "stream",
     "text": [
      "[[-3  2 -7]\n",
      " [-4  4 -2]\n",
      " [-1 -5  9]]\n",
      "[[-0.15294118 -0.1        -0.14117647]\n",
      " [-0.22352941  0.2        -0.12941176]\n",
      " [-0.14117647  0.1         0.02352941]]\n"
     ]
    },
    {
     "data": {
      "text/plain": [
       "array([[ 1.00000000e+00, -1.11022302e-16, -2.77555756e-17],\n",
       "       [ 0.00000000e+00,  1.00000000e+00, -5.55111512e-17],\n",
       "       [ 0.00000000e+00, -2.22044605e-16,  1.00000000e+00]])"
      ]
     },
     "execution_count": 9,
     "metadata": {},
     "output_type": "execute_result"
    }
   ],
   "source": [
    "b = np.random.randint(-10, 10, size = (3, 3))\n",
    "print(b)\n",
    "c = np.linalg.inv(b)\n",
    "print(c)\n",
    "np.dot(b, c)"
   ]
  },
  {
   "cell_type": "code",
   "execution_count": 12,
   "metadata": {},
   "outputs": [
    {
     "name": "stdout",
     "output_type": "stream",
     "text": [
      "[[1, 4, 3], [-1, -3, 0], [2, 4, 3]]\n",
      "[[-1.          0.          1.        ]\n",
      " [ 0.33333333 -0.33333333 -0.33333333]\n",
      " [ 0.22222222  0.44444444  0.11111111]]\n",
      "0.2222222222222222 0.4444444444444444 0.1111111111111111\n"
     ]
    }
   ],
   "source": [
    "d = [[1, 4, 3], \n",
    "     [-1, -3, 0], \n",
    "     [2, 4, 3]]\n",
    "print(d)\n",
    "print(np.linalg.inv(d))\n",
    "print(2 / 9, 4 / 9, 1 / 9)"
   ]
  },
  {
   "cell_type": "markdown",
   "metadata": {},
   "source": [
    "## 3-15 計算張量積-outer()"
   ]
  },
  {
   "cell_type": "code",
   "execution_count": 4,
   "metadata": {},
   "outputs": [
    {
     "name": "stdout",
     "output_type": "stream",
     "text": [
      "(5,)\n",
      "(6,)\n",
      "[[ 0  2  4  6  8  1]\n",
      " [ 0  4  8 12 16  2]\n",
      " [ 0  6 12 18 24  3]\n",
      " [ 0  4  8 12 16  2]\n",
      " [ 0  2  4  6  8  1]]\n"
     ]
    }
   ],
   "source": [
    "import numpy as np\n",
    "\n",
    "a = np.array([1, 2, 3, 2, 1])\n",
    "b = np.array([0, 2, 4, 6, 8, 1])\n",
    "\n",
    "print(a.shape)\n",
    "print(b.shape)\n",
    "print(np.outer(a, b))"
   ]
  },
  {
   "cell_type": "code",
   "execution_count": 12,
   "metadata": {},
   "outputs": [
    {
     "name": "stdout",
     "output_type": "stream",
     "text": [
      "[[0 2 4]\n",
      " [6 8 1]]\n",
      "[[2 3 2 0]\n",
      " [1 3 1 2]]\n",
      "[[ 0  0  0  0  0  0  0  0]\n",
      " [ 4  6  4  0  2  6  2  4]\n",
      " [ 8 12  8  0  4 12  4  8]\n",
      " [12 18 12  0  6 18  6 12]\n",
      " [16 24 16  0  8 24  8 16]\n",
      " [ 2  3  2  0  1  3  1  2]]\n"
     ]
    },
    {
     "data": {
      "text/plain": [
       "array([[ 0,  0,  0,  0,  0,  0,  0,  0],\n",
       "       [ 4,  6,  4,  0,  2,  6,  2,  4],\n",
       "       [ 8, 12,  8,  0,  4, 12,  4,  8],\n",
       "       [12, 18, 12,  0,  6, 18,  6, 12],\n",
       "       [16, 24, 16,  0,  8, 24,  8, 16],\n",
       "       [ 2,  3,  2,  0,  1,  3,  1,  2]])"
      ]
     },
     "execution_count": 12,
     "metadata": {},
     "output_type": "execute_result"
    }
   ],
   "source": [
    "b = b.reshape((2, -1))\n",
    "print(b)\n",
    "c = np.random.randint(0, 5, size = (2, 4))\n",
    "print(c)\n",
    "print(np.outer(b, c))\n",
    "np.outer(b.ravel(), c.ravel())"
   ]
  },
  {
   "cell_type": "markdown",
   "metadata": {},
   "source": [
    "## 3-16 計算叉積-cross()"
   ]
  },
  {
   "cell_type": "code",
   "execution_count": 26,
   "metadata": {},
   "outputs": [
    {
     "name": "stdout",
     "output_type": "stream",
     "text": [
      "[-12  15  -6]\n"
     ]
    },
    {
     "data": {
      "text/plain": [
       "array([-6,  9, -5])"
      ]
     },
     "execution_count": 26,
     "metadata": {},
     "output_type": "execute_result"
    }
   ],
   "source": [
    "import numpy as np\n",
    "\n",
    "a = np.array([1, 2, 3])\n",
    "b = np.array([5, 4, 0])\n",
    "print(np.cross(a, b))\n",
    "c = np.array([-1, 1, 3])\n",
    "d = np.array([2, 3, 3])\n",
    "np.cross(c, d)"
   ]
  },
  {
   "cell_type": "code",
   "execution_count": 15,
   "metadata": {},
   "outputs": [
    {
     "data": {
      "text/plain": [
       "array([-12,  15,  -6])"
      ]
     },
     "execution_count": 15,
     "metadata": {},
     "output_type": "execute_result"
    }
   ],
   "source": [
    "b_2 = np.array([5, 4])\n",
    "np.cross(a, b_2)"
   ]
  },
  {
   "cell_type": "code",
   "execution_count": 17,
   "metadata": {},
   "outputs": [
    {
     "name": "stdout",
     "output_type": "stream",
     "text": [
      "[[ 1  2  3]\n",
      " [-1  1  3]]\n",
      "[[5 4 0]\n",
      " [2 3 3]]\n",
      "[[-12  15  -6]\n",
      " [ -6   9  -5]]\n"
     ]
    }
   ],
   "source": [
    "ac = np.vstack((a, c))\n",
    "bd = np.vstack((b, d))\n",
    "print(ac)\n",
    "print(bd)\n",
    "print(np.cross(ac, bd))"
   ]
  },
  {
   "cell_type": "code",
   "execution_count": 21,
   "metadata": {},
   "outputs": [
    {
     "name": "stdout",
     "output_type": "stream",
     "text": [
      "[[ 1 -1]\n",
      " [ 2  1]\n",
      " [ 3  3]]\n"
     ]
    }
   ],
   "source": [
    "ac_2 = ac.transpose()\n",
    "print(ac_2)\n",
    "# np.cross(ac_2, bd) Mismatch is between arg 0 with shape (3,) and arg 1 with shape (2,)."
   ]
  },
  {
   "cell_type": "code",
   "execution_count": 27,
   "metadata": {},
   "outputs": [
    {
     "data": {
      "text/plain": [
       "array([[-12,  15,  -6],\n",
       "       [ -6,   9,  -5]])"
      ]
     },
     "execution_count": 27,
     "metadata": {},
     "output_type": "execute_result"
    }
   ],
   "source": [
    "np.cross(ac_2, bd, axisa = 0)"
   ]
  },
  {
   "cell_type": "code",
   "execution_count": 30,
   "metadata": {},
   "outputs": [
    {
     "name": "stdout",
     "output_type": "stream",
     "text": [
      "[[5 2]\n",
      " [4 3]\n",
      " [0 3]]\n"
     ]
    },
    {
     "data": {
      "text/plain": [
       "array([[-12,  15,  -6],\n",
       "       [ -6,   9,  -5]])"
      ]
     },
     "execution_count": 30,
     "metadata": {},
     "output_type": "execute_result"
    }
   ],
   "source": [
    "bd_2 = bd.transpose() # np.transpose(bd)也可以\n",
    "print(bd_2)\n",
    "np.cross(ac, bd_2, axisb = 0)"
   ]
  },
  {
   "cell_type": "code",
   "execution_count": 32,
   "metadata": {},
   "outputs": [
    {
     "name": "stdout",
     "output_type": "stream",
     "text": [
      "[[-12  15  -6]\n",
      " [ -6   9  -5]]\n",
      "[[-12  -6]\n",
      " [ 15   9]\n",
      " [ -6  -5]]\n"
     ]
    }
   ],
   "source": [
    "print(np.cross(ac, bd, axisc = 1))\n",
    "print(np.cross(ac, bd, axisc = 0))"
   ]
  },
  {
   "cell_type": "code",
   "execution_count": 35,
   "metadata": {},
   "outputs": [
    {
     "name": "stdout",
     "output_type": "stream",
     "text": [
      "[[-12  -6]\n",
      " [ 15   9]\n",
      " [ -6  -5]]\n"
     ]
    }
   ],
   "source": [
    "print(np.cross(ac_2, bd_2, axis = 0))"
   ]
  },
  {
   "cell_type": "code",
   "execution_count": 40,
   "metadata": {},
   "outputs": [],
   "source": [
    "# print(np.cross(np.array([1, 1, 1, 1]), np.array([1, 1, 1, 1])))\n",
    "# print(np.cross(np.array([1]), np.array([1])))"
   ]
  },
  {
   "cell_type": "markdown",
   "metadata": {},
   "source": [
    "## 3-17 計算卷積-convolve()"
   ]
  },
  {
   "cell_type": "code",
   "execution_count": 49,
   "metadata": {},
   "outputs": [
    {
     "name": "stdout",
     "output_type": "stream",
     "text": [
      "[0.  0.2 1.2 2.2 3.2 4.2 4. ]\n",
      "[0.  0.2 1.2 2.2 3.2 4.2 4. ]\n",
      "[0.  0.2 1.2 2.2 3.2 4.2]\n",
      "[0.2 1.2 2.2 3.2 4.2]\n"
     ]
    }
   ],
   "source": [
    "import numpy as np\n",
    "\n",
    "a = np.array([0, 1, 2, 3, 4, 5])\n",
    "v = np.array([0.2, 0.8])\n",
    "print(np.convolve(a, v))\n",
    "print(np.convolve(a, v, mode = \"full\"))\n",
    "print(np.convolve(a, v, mode = \"same\"))\n",
    "print(np.convolve(a, v, mode = \"valid\"))"
   ]
  },
  {
   "cell_type": "markdown",
   "metadata": {},
   "source": [
    "## 3-18 將數值劃分為不同區間-digitize()"
   ]
  },
  {
   "cell_type": "code",
   "execution_count": 51,
   "metadata": {},
   "outputs": [
    {
     "name": "stdout",
     "output_type": "stream",
     "text": [
      "2\n",
      "1\n"
     ]
    }
   ],
   "source": [
    "import numpy as np\n",
    "\n",
    "print(np.digitize(1, [0, 1]))\n",
    "print(np.digitize(1, [0, 1], right = True))"
   ]
  },
  {
   "cell_type": "code",
   "execution_count": 52,
   "metadata": {},
   "outputs": [
    {
     "name": "stdout",
     "output_type": "stream",
     "text": [
      "1\n",
      "1\n",
      "1\n",
      "1\n",
      "2\n",
      "2\n",
      "2\n",
      "3\n",
      "3\n",
      "3\n"
     ]
    }
   ],
   "source": [
    "for i in range(10):\n",
    "    print(np.digitize(i, bins = [0, 4, 7]))"
   ]
  }
 ],
 "metadata": {
  "kernelspec": {
   "display_name": "base",
   "language": "python",
   "name": "python3"
  },
  "language_info": {
   "codemirror_mode": {
    "name": "ipython",
    "version": 3
   },
   "file_extension": ".py",
   "mimetype": "text/x-python",
   "name": "python",
   "nbconvert_exporter": "python",
   "pygments_lexer": "ipython3",
   "version": "3.11.5"
  }
 },
 "nbformat": 4,
 "nbformat_minor": 2
}
